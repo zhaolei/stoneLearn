{
 "cells": [
  {
   "cell_type": "code",
   "execution_count": null,
   "metadata": {
    "collapsed": true
   },
   "outputs": [],
   "source": [
    "%pylab inline"
   ]
  },
  {
   "cell_type": "code",
   "execution_count": 4,
   "metadata": {
    "collapsed": false
   },
   "outputs": [
    {
     "name": "stdout",
     "output_type": "stream",
     "text": [
      "Output After Training:\n",
      "[[ 0.00966449]\n",
      " [ 0.00786506]\n",
      " [ 0.99358898]\n",
      " [ 0.99211957]]\n",
      "[[ 9.67299303]\n",
      " [-0.2078435 ]\n",
      " [-4.62963669]]\n"
     ]
    }
   ],
   "source": [
    "\n",
    "import numpy as np\n",
    " \n",
    "# sigmoid function\n",
    "def nonlin(x,deriv=False):\n",
    "    if(deriv==True):\n",
    "        return x*(1-x)\n",
    "    return 1/(1+np.exp(-x))\n",
    " \n",
    "# input dataset\n",
    "X = np.array([  [0,0,1],\n",
    "                [0,1,1],\n",
    "                [1,0,1],\n",
    "                [1,1,1] ])\n",
    " \n",
    "# output dataset            \n",
    "y = np.array([[0,0,1,1]]).T\n",
    " \n",
    "# seed random numbers to make calculation\n",
    "# deterministic (just a good practice)\n",
    "np.random.seed(1)\n",
    " \n",
    "# initialize weights randomly with mean 0\n",
    "syn0 = 2*np.random.random((3,1)) - 1\n",
    " \n",
    "for iter in xrange(10000):\n",
    "    # forward propagation\n",
    "    l0 = X\n",
    "    l1 = nonlin(np.dot(l0,syn0))\n",
    " \n",
    "    # how much did we miss?\n",
    "    l1_error = y - l1\n",
    " \n",
    "    # multiply how much we missed by the \n",
    "    # slope of the sigmoid at the values in l1\n",
    "    l1_delta = l1_error * nonlin(l1,True)\n",
    " \n",
    "    # update weights\n",
    "    syn0 += np.dot(l0.T,l1_delta)\n",
    "    #print l1\n",
    "print \"Output After Training:\"\n",
    "print l1\n",
    "print syn0"
   ]
  },
  {
   "cell_type": "code",
   "execution_count": 16,
   "metadata": {
    "collapsed": false
   },
   "outputs": [
    {
     "name": "stdout",
     "output_type": "stream",
     "text": [
      "syn0.shape %d (3, 4)\n",
      "syn1.shape %d (4, 6)\n",
      "X.shape %d (4, 3)\n",
      "Error:0.500726417987\n",
      "Error:0.00201076882663\n",
      "Error:0.00137921129249\n",
      "Error:0.00110871457479\n",
      "Error:0.000950360824793\n",
      "Error:0.000843607689021\n",
      "Error:0.000765522748652\n",
      "Error:0.000705273791084\n",
      "Error:0.000656998364457\n",
      "Error:0.000617213705281\n",
      "Error:0.000583704811491\n",
      "Error:0.000554987547669\n",
      "Error:0.000530025612889\n",
      "Error:0.000508070780619\n",
      "Error:0.000488567635999\n",
      "Error:0.00047109415383\n",
      "Error:0.000455323208294\n",
      "Error:0.000440996828981\n",
      "Error:0.000427908500485\n",
      "Error:0.000415890696635\n",
      "[[ 0.14351357  0.24855015  0.86864409  0.11430308  0.08576317  0.83383293]\n",
      " [ 0.33986663  0.53640176  0.28616601  0.65356926  0.87193919  0.27422689]\n",
      " [ 0.07722645  0.5052468   0.16343503  0.6940113   0.85645658  0.39290097]\n",
      " [ 0.15013802  0.1816237   0.88968423  0.22818099  0.09405063  0.81295138]]\n"
     ]
    }
   ],
   "source": [
    "\n",
    "import numpy as np\n",
    " \n",
    "def nonlin(x,deriv=False):\n",
    "    if(deriv==True):\n",
    "        return x*(1-x)\n",
    " \n",
    "    return 1/(1+np.exp(-x))\n",
    " \n",
    "X = np.array([[0,0,1],\n",
    "            [0,1,1],\n",
    "            [1,0,1],\n",
    "            [1,1,1]])\n",
    " \n",
    "y = np.array([[0],\n",
    "            [1],\n",
    "            [1],\n",
    "            [0]])\n",
    " \n",
    "np.random.seed(1)\n",
    " \n",
    "# randomly initialize our weights with mean 0\n",
    "syn0 = 2*np.random.random((3,4)) - 1\n",
    "syn1 = 2*np.random.random((4,6)) - 1\n",
    "syn2 = 2*np.random.random((6,1)) - 1\n",
    " \n",
    "print 'syn0.shape %d' , syn0.shape\n",
    "print 'syn1.shape %d' , syn1.shape\n",
    "\n",
    "print 'X.shape %d' , X.shape\n",
    "\n",
    "for j in xrange(100000):\n",
    " \n",
    "    # Feed forward through layers 0, 1, and 2\n",
    "    l0 = X\n",
    "    l1 = nonlin(np.dot(l0,syn0))\n",
    "    l2 = nonlin(np.dot(l1,syn1))\n",
    "    l3 = nonlin(np.dot(l2,syn2))\n",
    " \n",
    "    # how much did we miss the target value?\n",
    "    #l2_error = y - l2\n",
    "    l3_error = y -  l3\n",
    " \n",
    "    if (j% 50000) == 0:\n",
    "        #print \"Error:\" + str(np.mean(np.abs(l2_error)))\n",
    "        print \"Error:\" + str(np.mean(np.abs(l3_error)))\n",
    " \n",
    "    # in what direction is the target value?\n",
    "    # were we really sure? if so, don't change too much.\n",
    "    l3_delta = l3_error*nonlin(l3, deriv=True)\n",
    "    \n",
    "    l2_error = l3_delta.dot(syn2.T)\n",
    "    \n",
    "    l2_delta = l2_error*nonlin(l2,deriv=True)\n",
    " \n",
    "    # how much did each l1 value contribute to the l2 error (according to the weights)?\n",
    "    l1_error = l2_delta.dot(syn1.T)\n",
    " \n",
    "    # in what direction is the target l1?\n",
    "    # were we really sure? if so, don't change too much.\n",
    "    l1_delta = l1_error * nonlin(l1,deriv=True)\n",
    " \n",
    "    syn2 += l2.T.dot(l3_delta)\n",
    "    syn1 += l1.T.dot(l2_delta)\n",
    "    syn0 += l0.T.dot(l1_delta)\n",
    "    \n",
    "    \n",
    "print l2    "
   ]
  },
  {
   "cell_type": "code",
   "execution_count": null,
   "metadata": {
    "collapsed": true
   },
   "outputs": [],
   "source": []
  }
 ],
 "metadata": {
  "kernelspec": {
   "display_name": "Python 2",
   "language": "python",
   "name": "python2"
  },
  "language_info": {
   "codemirror_mode": {
    "name": "ipython",
    "version": 2
   },
   "file_extension": ".py",
   "mimetype": "text/x-python",
   "name": "python",
   "nbconvert_exporter": "python",
   "pygments_lexer": "ipython2",
   "version": "2.7.6"
  }
 },
 "nbformat": 4,
 "nbformat_minor": 0
}
